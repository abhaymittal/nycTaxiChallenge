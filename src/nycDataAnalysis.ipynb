{
 "cells": [
  {
   "cell_type": "code",
   "execution_count": 2,
   "metadata": {
    "collapsed": true
   },
   "outputs": [],
   "source": [
    "# imports\n",
    "import pandas as pd\n",
    "import numpy as np\n",
    "import seaborn as sb\n",
    "import datetime as dt\n",
    "\n",
    "\n",
    "%matplotlib inline"
   ]
  },
  {
   "cell_type": "markdown",
   "metadata": {},
   "source": [
    "Load the data"
   ]
  },
  {
   "cell_type": "code",
   "execution_count": null,
   "metadata": {
    "collapsed": true
   },
   "outputs": [],
   "source": []
  },
  {
   "cell_type": "code",
   "execution_count": 3,
   "metadata": {
    "collapsed": true
   },
   "outputs": [],
   "source": [
    "\n",
    "\n",
    "dataFrame=pd.read_csv('../data/train.csv')"
   ]
  },
  {
   "cell_type": "markdown",
   "metadata": {},
   "source": [
    "Get some data statistics\n"
   ]
  },
  {
   "cell_type": "code",
   "execution_count": 4,
   "metadata": {
    "collapsed": false
   },
   "outputs": [
    {
     "name": "stdout",
     "output_type": "stream",
     "text": [
      "Column Names:\n",
      "['id' 'vendor_id' 'pickup_datetime' 'dropoff_datetime' 'passenger_count'\n",
      " 'pickup_longitude' 'pickup_latitude' 'dropoff_longitude'\n",
      " 'dropoff_latitude' 'store_and_fwd_flag' 'trip_duration']\n",
      "==============================\n",
      "Mean trip duration = 959.49227296\n",
      "Standard deviation for trip duration = 5237.42992919\n",
      "Minimum trip duration =  1\n",
      "Maximum trip duration =  3526282\n",
      "Sample data frame row:\n",
      "          id  vendor_id      pickup_datetime     dropoff_datetime  \\\n",
      "0  id2875421          2  2016-03-14 17:24:55  2016-03-14 17:32:30   \n",
      "\n",
      "   passenger_count  pickup_longitude  pickup_latitude  dropoff_longitude  \\\n",
      "0                1        -73.982155        40.767937          -73.96463   \n",
      "\n",
      "   dropoff_latitude store_and_fwd_flag  trip_duration  \n",
      "0         40.765602                  N            455  \n"
     ]
    }
   ],
   "source": [
    "print \"Column Names:\"\n",
    "print dataFrame.columns.values\n",
    "print \"==============================\"\n",
    "mean = np.mean(dataFrame['trip_duration'])\n",
    "print \"Mean trip duration =\",mean\n",
    "print \"Standard deviation for trip duration =\",np.std(dataFrame['trip_duration'])\n",
    "print \"Minimum trip duration = \",np.min(dataFrame['trip_duration'])\n",
    "print \"Maximum trip duration = \",np.max(dataFrame['trip_duration'])\n",
    "\n",
    "print \"Sample data frame row:\"\n",
    "print dataFrame[:1]"
   ]
  },
  {
   "cell_type": "markdown",
   "metadata": {
    "collapsed": true
   },
   "source": [
    "The difference between minimum and maximum trip duration seems to be huge. This is even stranger considering the fact that the duration is in seconds, so its not possible that there was a 1 second trip and its higly unlikely that a trip which lasted 3.5M seconds. Lets see the histogram to analyze the data distribution."
   ]
  },
  {
   "cell_type": "code",
   "execution_count": 5,
   "metadata": {
    "collapsed": false
   },
   "outputs": [
    {
     "data": {
      "text/plain": [
       "<matplotlib.axes._subplots.AxesSubplot at 0x7f92260d6d10>"
      ]
     },
     "execution_count": 5,
     "metadata": {},
     "output_type": "execute_result"
    },
    {
     "data": {
      "image/png": "[encoded data removed]",
      "text/plain": [
       "<matplotlib.figure.Figure at 0x7f9215993550>"
      ]
     },
     "metadata": {},
     "output_type": "display_data"
    }
   ],
   "source": [
    "\n",
    "sb.distplot(dataFrame['trip_duration'])"
   ]
  },
  {
   "cell_type": "markdown",
   "metadata": {},
   "source": [
    "This definitely seems skewed. Lets try to sort the duration in descending order and print the top 20 values"
   ]
  },
  {
   "cell_type": "code",
   "execution_count": 6,
   "metadata": {
    "collapsed": false
   },
   "outputs": [
    {
     "name": "stdout",
     "output_type": "stream",
     "text": [
      "==============================================\n",
      "20 largest trip durations:\n",
      "3526282\n",
      "2227612\n",
      "2049578\n",
      "1939736\n",
      "  86392\n",
      "  86391\n",
      "  86390\n",
      "  86387\n",
      "  86385\n",
      "  86379\n",
      "  86378\n",
      "  86378\n",
      "  86377\n",
      "  86377\n",
      "  86369\n",
      "  86369\n",
      "  86369\n",
      "  86369\n",
      "  86367\n",
      "  86367\n"
     ]
    }
   ],
   "source": [
    "tripDuration=dataFrame['trip_duration']\n",
    "\n",
    "print \"==============================================\"\n",
    "print \"20 largest trip durations:\"\n",
    "tripDurDesc=tripDuration.sort_values(ascending=False)\n",
    "print tripDurDesc[0:20].to_string(index=False)"
   ]
  },
  {
   "cell_type": "markdown",
   "metadata": {},
   "source": [
    "Yup, the top values do seem highly unlikely (the 4th largest value 1.9M seconds corresponds to around 23 days). Lets see the distribution without these values"
   ]
  },
  {
   "cell_type": "code",
   "execution_count": 7,
   "metadata": {
    "collapsed": false
   },
   "outputs": [
    {
     "data": {
      "text/plain": [
       "<matplotlib.axes._subplots.AxesSubplot at 0x7f922528fa90>"
      ]
     },
     "execution_count": 7,
     "metadata": {},
     "output_type": "execute_result"
    },
    {
     "data": {
      "image/png": "[encoded data removed]",
      "text/plain": [
       "<matplotlib.figure.Figure at 0x7f9225283710>"
      ]
     },
     "metadata": {},
     "output_type": "display_data"
    }
   ],
   "source": [
    "sb.distplot(tripDurDesc[4:])"
   ]
  },
  {
   "cell_type": "markdown",
   "metadata": {},
   "source": [
    "The shorter values still seem to be skewing the distribution, lets analyze that. I will assume that a trip will be of atleast 60 seconds"
   ]
  },
  {
   "cell_type": "code",
   "execution_count": 8,
   "metadata": {
    "collapsed": false
   },
   "outputs": [
    {
     "name": "stdout",
     "output_type": "stream",
     "text": [
      "==============================================\n",
      "20 smallest trip durations:\n"
     ]
    },
    {
     "data": {
      "text/plain": [
       "<matplotlib.axes._subplots.AxesSubplot at 0x7f92250b2950>"
      ]
     },
     "execution_count": 8,
     "metadata": {},
     "output_type": "execute_result"
    },
    {
     "data": {
      "image/png": "[encoded data removed]",
      "text/plain": [
       "<matplotlib.figure.Figure at 0x7f9225142690>"
      ]
     },
     "metadata": {},
     "output_type": "display_data"
    }
   ],
   "source": [
    "print \"==============================================\"\n",
    "print \"20 smallest trip durations:\"\n",
    "tripDurAsc=tripDuration.sort_values()\n",
    "tripDurAsc=tripDurAsc[tripDurAsc<1939736]\n",
    "tripDurAsc=tripDurAsc[tripDurAsc>=60]\n",
    "sb.distplot(tripDurAsc)\n"
   ]
  },
  {
   "cell_type": "markdown",
   "metadata": {},
   "source": [
    "remove trip duration values < 60 seconds and >=1.9M seconds and then plot the log scale distribution as the loss function is RMSLE"
   ]
  },
  {
   "cell_type": "code",
   "execution_count": 9,
   "metadata": {
    "collapsed": false,
    "scrolled": false
   },
   "outputs": [
    {
     "name": "stdout",
     "output_type": "stream",
     "text": [
      "Mean trip duration = 952.815251878\n",
      "Standard deviation for trip duration = 3171.32119632\n"
     ]
    },
    {
     "data": {
      "text/plain": [
       "<matplotlib.axes._subplots.AxesSubplot at 0x7f92251bae90>"
      ]
     },
     "execution_count": 9,
     "metadata": {},
     "output_type": "execute_result"
    },
    {
     "data": {
      "image/png": "[encoded data removed]",
      "text/plain": [
       "<matplotlib.figure.Figure at 0x7f9265abf2d0>"
      ]
     },
     "metadata": {},
     "output_type": "display_data"
    }
   ],
   "source": [
    "# dF2=dataFrame[dataFrame['trip_duration']<1939736]\n",
    "# print dF2\n",
    "dataFrameFiltered=dataFrame[dataFrame['trip_duration']>=60]\n",
    "dataFrameFiltered =dataFrame[dataFrame['trip_duration']<1939736]\n",
    "mean = np.mean(dataFrameFiltered['trip_duration'])\n",
    "print \"Mean trip duration =\",mean\n",
    "std=np.std(dataFrameFiltered['trip_duration'])\n",
    "print \"Standard deviation for trip duration =\",std\n",
    "sb.distplot(np.log(tripDuration))\n"
   ]
  },
  {
   "cell_type": "markdown",
   "metadata": {},
   "source": [
    "So this is a lognormal distribution. We can take the 4 standard deviation ranges in order to remove even more outliers. "
   ]
  },
  {
   "cell_type": "code",
   "execution_count": 10,
   "metadata": {
    "collapsed": false
   },
   "outputs": [],
   "source": [
    "# tripDuration=dataFrameFiltered['trip_duration']\n",
    "# tripDuration=tripDuration[tripDuration>=mean-4*std]\n",
    "# tripDuration=tripDuration[tripDuration<=mean+4*std]\n",
    "# dataFrameFiltered=dataFrameFiltered[dataFrameFiltered['trip_duration']>=mean-4*std]\n",
    "# dataFrameFiltered =dataFrameFiltered[dataFrameFiltered['trip_duration']<=mean+4*std]\n",
    "# sb.distplot(np.log(tripDuration))"
   ]
  },
  {
   "cell_type": "markdown",
   "metadata": {},
   "source": [
    "Now that we've removed the outliers, lets work on getting some statistics from the data. First of all lets see the traffic in weekdays/weekends as I think weekdays should have more traffic due to office going people"
   ]
  },
  {
   "cell_type": "code",
   "execution_count": 11,
   "metadata": {
    "collapsed": false
   },
   "outputs": [
    {
     "data": {
      "text/plain": [
       "[<matplotlib.text.Text at 0x7f9224c68090>,\n",
       " <matplotlib.text.Text at 0x7f9224cd3a90>]"
      ]
     },
     "execution_count": 11,
     "metadata": {},
     "output_type": "execute_result"
    },
    {
     "data": {
      "image/png": "[encoded data removed]",
      "text/plain": [
       "<matplotlib.figure.Figure at 0x7f922517e750>"
      ]
     },
     "metadata": {},
     "output_type": "display_data"
    }
   ],
   "source": [
    "dataFrame=dataFrameFiltered\n",
    "pickupDT=pd.to_datetime(dataFrame['pickup_datetime'])\n",
    "pickupDT=pickupDT.sort_values()\n",
    "def getAvgPickupsDay(pickupDT):\n",
    "    avgPickups=np.zeros((7,2))\n",
    "    prevDate=''\n",
    "    \n",
    "    for i,dt in pickupDT.iteritems():\n",
    "        avgPickups[dt.weekday()][0]+=1\n",
    "        if dt.date()!=prevDate:\n",
    "            avgPickups[dt.weekday()][1]+=1\n",
    "        prevDate=dt.date()\n",
    "    res=np.zeros(7);\n",
    "    res=[avgPickups[x][0]/avgPickups[x][1] for x in range(0,len(avgPickups))]\n",
    "    return res\n",
    "\n",
    "avg=getAvgPickupsDay(pickupDT)\n",
    "day=['Mon','Tue','Wed','Thu','Fri','Sat','Sun']\n",
    "ax=sb.barplot(day,avg)\n",
    "ax.set(xlabel='Day of week', ylabel='Average # pickups')\n"
   ]
  },
  {
   "cell_type": "markdown",
   "metadata": {},
   "source": [
    "There is no difference in weekday and weekend data, thus its not a feature of importance. Lets see the trips per vendor"
   ]
  },
  {
   "cell_type": "code",
   "execution_count": 12,
   "metadata": {
    "collapsed": false
   },
   "outputs": [
    {
     "data": {
      "image/png": "[encoded data removed]",
      "text/plain": [
       "<matplotlib.figure.Figure at 0x7f922507a750>"
      ]
     },
     "metadata": {},
     "output_type": "display_data"
    }
   ],
   "source": [
    "ax=sb.countplot(x='vendor_id',data=dataFrame)"
   ]
  },
  {
   "cell_type": "markdown",
   "metadata": {},
   "source": [
    "Lets see the number of passengers per vendor"
   ]
  },
  {
   "cell_type": "code",
   "execution_count": 27,
   "metadata": {
    "collapsed": false
   },
   "outputs": [
    {
     "data": {
      "image/png": "[encoded data removed]",
      "text/plain": [
       "<matplotlib.figure.Figure at 0x7f9224cae7d0>"
      ]
     },
     "metadata": {},
     "output_type": "display_data"
    }
   ],
   "source": [
    "ax=sb.factorplot(x='passenger_count',hue='vendor_id',kind='count',data=dataFrame)"
   ]
  },
  {
   "cell_type": "markdown",
   "metadata": {},
   "source": [
    "It seems that the taxis operated by vendor 2 carry more passengers than vendor 1 as the larger passenger counts are completely overwhelmed by vendor 2. I guess the vendor id could be a feature but I am not sure as it might not have any effect on the trip duration."
   ]
  },
  {
   "cell_type": "markdown",
   "metadata": {},
   "source": [
    "Now lets do some clustering to get an idea of the most dense areas. According to the New York City Borough boundary (https://www1.nyc.gov/assets/planning/download/pdf/data-maps/open-data/nybb_metadata.pdf?ver=17b), these are the extents of NYC:\n",
    "West -74.257159 East -73.699215\n",
    "North 40.915568 South 40.495992"
   ]
  },
  {
   "cell_type": "code",
   "execution_count": null,
   "metadata": {
    "collapsed": true
   },
   "outputs": [],
   "source": []
  }
 ],
 "metadata": {
  "kernelspec": {
   "display_name": "Python 2",
   "language": "python",
   "name": "python2"
  },
  "language_info": {
   "codemirror_mode": {
    "name": "ipython",
    "version": 2
   },
   "file_extension": ".py",
   "mimetype": "text/x-python",
   "name": "python",
   "nbconvert_exporter": "python",
   "pygments_lexer": "ipython2",
   "version": "2.7.13"
  }
 },
 "nbformat": 4,
 "nbformat_minor": 2
}
