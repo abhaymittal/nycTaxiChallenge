{
 "cells": [
  {
   "cell_type": "code",
   "execution_count": 1,
   "metadata": {
    "collapsed": true
   },
   "outputs": [],
   "source": [
    "# imports\n",
    "import pandas as pd\n",
    "import numpy as np\n",
    "import datetime as dt\n",
    "from sklearn.cluster import KMeans\n",
    "from sklearn.decomposition import PCA\n",
    "\n",
    "try:\n",
    "    import cPickle as p\n",
    "except:\n",
    "    import Pickle as p"
   ]
  },
  {
   "cell_type": "code",
   "execution_count": 12,
   "metadata": {
    "collapsed": false
   },
   "outputs": [
    {
     "name": "stdout",
     "output_type": "stream",
     "text": [
      "625134\n"
     ]
    }
   ],
   "source": [
    "trainData=pd.read_csv('../data/train.csv')\n",
    "testData=pd.read_csv('../data/test.csv')"
   ]
  },
  {
   "cell_type": "code",
   "execution_count": 11,
   "metadata": {
    "collapsed": false
   },
   "outputs": [
    {
     "name": "stdout",
     "output_type": "stream",
     "text": [
      "625134\n"
     ]
    }
   ],
   "source": [
    "def filterData(dataFrame):\n",
    "    long_limit=[-74.257159, -73.699215]\n",
    "    lat_limit=[40.495992, 40.915568]\n",
    "    dataFrame=dataFrame[(dataFrame['pickup_longitude']>=long_limit[0])&(dataFrame['pickup_longitude']<=long_limit[1])]\n",
    "    dataFrame=dataFrame[(dataFrame['pickup_latitude']>=lat_limit[0])&(dataFrame['pickup_latitude']<=lat_limit[1])]\n",
    "    dataFrame=dataFrame[(dataFrame['dropoff_longitude']>=long_limit[0])&(dataFrame['dropoff_longitude']<=long_limit[1])]\n",
    "    dataFrame=dataFrame[(dataFrame['dropoff_latitude']>=lat_limit[0])&(dataFrame['dropoff_latitude']<=lat_limit[1])]\n",
    "    return dataFrame\n",
    "\n",
    "trainData=trainData[trainData['trip_duration']>=60]\n",
    "trainData=trainData[trainData['trip_duration']<1939736]\n",
    "\n",
    "trainData=filterData(trainData)"
   ]
  },
  {
   "cell_type": "code",
   "execution_count": 4,
   "metadata": {
    "collapsed": false
   },
   "outputs": [
    {
     "name": "stdout",
     "output_type": "stream",
     "text": [
      "['id' 'vendor_id' 'pickup_datetime' 'dropoff_datetime' 'passenger_count'\n",
      " 'pickup_longitude' 'pickup_latitude' 'dropoff_longitude'\n",
      " 'dropoff_latitude' 'store_and_fwd_flag' 'trip_duration']\n"
     ]
    }
   ],
   "source": [
    "print trainData.columns.values"
   ]
  },
  {
   "cell_type": "markdown",
   "metadata": {},
   "source": [
    "Lets begin by copying the columns which are not going to be changed."
   ]
  },
  {
   "cell_type": "code",
   "execution_count": 5,
   "metadata": {
    "collapsed": true
   },
   "outputs": [],
   "source": [
    "train=pd.DataFrame(trainData[['pickup_longitude','pickup_latitude','dropoff_longitude','dropoff_latitude','passenger_count','vendor_id']])\n",
    "yTrain=pd.Series(trainData['trip_duration'])\n",
    "test=pd.DataFrame(testData[['pickup_longitude','pickup_latitude','dropoff_longitude','dropoff_latitude','passenger_count','vendor_id']])"
   ]
  },
  {
   "cell_type": "code",
   "execution_count": 6,
   "metadata": {
    "collapsed": false
   },
   "outputs": [
    {
     "name": "stdout",
     "output_type": "stream",
     "text": [
      "['pickup_longitude' 'pickup_latitude' 'dropoff_longitude'\n",
      " 'dropoff_latitude' 'passenger_count' 'vendor_id' 'store_and_fwd_flag']\n"
     ]
    }
   ],
   "source": [
    "train['store_and_fwd_flag']=[1 if x=='Y' else 0 for x in trainData['store_and_fwd_flag']]\n",
    "test['store_and_fwd_flag']=[1 if x=='Y' else 0 for x in testData['store_and_fwd_flag']]\n",
    "print train.columns.values"
   ]
  },
  {
   "cell_type": "markdown",
   "metadata": {},
   "source": [
    "Now, lets deal with latitude and longitude features. I was confused on what is the proper way to encode these features and saw that [beluga](https://www.kaggle.com/gaborfodor/from-eda-to-the-top-lb-0-367) used PCA which kind of makes sense as PCA turns a set of correlated features into uncorrelated ones. I'll use it as well."
   ]
  },
  {
   "cell_type": "code",
   "execution_count": 7,
   "metadata": {
    "collapsed": true
   },
   "outputs": [],
   "source": [
    "coords = np.vstack((train[['pickup_longitude', 'pickup_latitude']].values,\n",
    "                    train[['dropoff_longitude', 'dropoff_latitude']].values,\n",
    "                    test[['pickup_longitude', 'pickup_latitude']].values,\n",
    "                    test[['dropoff_longitude', 'dropoff_latitude']].values))\n",
    "pca = PCA().fit(coords)"
   ]
  },
  {
   "cell_type": "code",
   "execution_count": 8,
   "metadata": {
    "collapsed": false
   },
   "outputs": [],
   "source": [
    "train_pickup_pca=pca.transform(train[['pickup_longitude', 'pickup_latitude']])\n",
    "train['pickup_pca0']=train_pickup_pca[:,0]\n",
    "train['pickup_pca1']=train_pickup_pca[:,1]\n",
    "\n",
    "train_dropoff_pca=pca.transform(train[['dropoff_longitude','dropoff_latitude']])\n",
    "train['dropoff_pca0']=train_dropoff_pca[:,0]\n",
    "train['dropoff_pca1']=train_dropoff_pca[:,1]\n",
    "\n",
    "test_pickup_pca=pca.transform(test[['pickup_longitude', 'pickup_latitude']])\n",
    "test['pickup_pca0']=test_pickup_pca[:,0]\n",
    "test['pickup_pca1']=test_pickup_pca[:,1]\n",
    "\n",
    "test_dropoff_pca=pca.transform(test[['dropoff_longitude','dropoff_latitude']])\n",
    "test['dropoff_pca0']=test_dropoff_pca[:,0]\n",
    "test['dropoff_pca1']=test_dropoff_pca[:,1]"
   ]
  },
  {
   "cell_type": "markdown",
   "metadata": {},
   "source": [
    "Now, lets add distance between pickup and dropoff points. Note that I'll also add bearing as I mentioned in EDA."
   ]
  },
  {
   "cell_type": "code",
   "execution_count": 13,
   "metadata": {
    "collapsed": false
   },
   "outputs": [],
   "source": [
    "def haversine_np(lon1, lat1, lon2, lat2):\n",
    "    \"\"\"\n",
    "    Calculate the great circle distance between two points\n",
    "    on the earth (specified in decimal degrees)\n",
    "    (https://stackoverflow.com/questions/29545704/fast-haversine-approximation-python-pandas)\n",
    "    All args must be of equal length.    \n",
    "\n",
    "    \"\"\"\n",
    "    lon1, lat1, lon2, lat2 = map(np.radians, [lon1, lat1, lon2, lat2])\n",
    "    dlon = lon2 - lon1\n",
    "    dlat = lat2 - lat1\n",
    "    a = np.sin(dlat/2.0)**2 + np.cos(lat1) * np.cos(lat2) * np.sin(dlon/2.0)**2\n",
    "    c = 2 * np.arcsin(np.sqrt(a))\n",
    "    km = 6367 * c\n",
    "    return km\n",
    "\n",
    "train['dist_haversine']=haversine_np(train['pickup_longitude'],train['pickup_latitude'],train['dropoff_longitude'],train['dropoff_latitude'])\n",
    "test['dist_haversine']=haversine_np(test['pickup_longitude'],test['pickup_latitude'],test['dropoff_longitude'],test['dropoff_latitude'])\n",
    "\n"
   ]
  },
  {
   "cell_type": "markdown",
   "metadata": {},
   "source": [
    "We'll also add manhattan distances to it (because we've already assumed the surface to be flat enough to be considered euclidean and used kmeans on it)."
   ]
  },
  {
   "cell_type": "code",
   "execution_count": 14,
   "metadata": {
    "collapsed": true
   },
   "outputs": [],
   "source": [
    "def manhattan_dist(x1, y1, x2, y2):\n",
    "    \"\"\"\n",
    "    Calculate manhattan distance between two points\n",
    "    \"\"\"\n",
    "    return abs(x1-x2)+abs(y1-y2)\n",
    "\n",
    "train['dist_pca_manhattan']=manhattan_dist(train['pickup_pca0'],train['pickup_pca1'],train['dropoff_pca0'],train['dropoff_pca1'])\n",
    "test['dist_pca_manhattan']=manhattan_dist(test['pickup_pca0'],test['pickup_pca1'],test['dropoff_pca0'],test['dropoff_pca1'])\n"
   ]
  },
  {
   "cell_type": "markdown",
   "metadata": {},
   "source": [
    "Let's add bearing now"
   ]
  },
  {
   "cell_type": "code",
   "execution_count": null,
   "metadata": {
    "collapsed": true
   },
   "outputs": [],
   "source": []
  }
 ],
 "metadata": {
  "kernelspec": {
   "display_name": "Python 2",
   "language": "python",
   "name": "python2"
  },
  "language_info": {
   "codemirror_mode": {
    "name": "ipython",
    "version": 2
   },
   "file_extension": ".py",
   "mimetype": "text/x-python",
   "name": "python",
   "nbconvert_exporter": "python",
   "pygments_lexer": "ipython2",
   "version": "2.7.13"
  }
 },
 "nbformat": 4,
 "nbformat_minor": 2
}
